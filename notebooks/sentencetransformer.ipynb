{
 "cells": [
  {
   "cell_type": "code",
   "execution_count": 1,
   "id": "29d9b259-4d38-4b17-984d-8873f470543c",
   "metadata": {},
   "outputs": [
    {
     "name": "stderr",
     "output_type": "stream",
     "text": [
      "/Users/panyong/dev/pyrepo/semanticsearch/venv/lib/python3.12/site-packages/tqdm/auto.py:21: TqdmWarning: IProgress not found. Please update jupyter and ipywidgets. See https://ipywidgets.readthedocs.io/en/stable/user_install.html\n",
      "  from .autonotebook import tqdm as notebook_tqdm\n"
     ]
    }
   ],
   "source": [
    "import numpy as np\n",
    "from sentence_transformers import SentenceTransformer\n",
    "from scipy.spatial.distance import cdist\n",
    "\n",
    "# Load data and model\n",
    "class SemanticSearch:\n",
    "    def __init__(self, data_file, model_name='all-MiniLM-L6-v2'):\n",
    "        self.data = self._load_data(data_file)\n",
    "        self.model = SentenceTransformer(model_name)\n",
    "        self.embeddings = self._generate_embeddings()\n",
    "\n",
    "    def _load_data(self, data_file):\n",
    "        \"\"\"Load material data from a JSON file.\"\"\"\n",
    "        import json\n",
    "        with open(data_file, 'r') as f:\n",
    "            return json.load(f)\n",
    "\n",
    "    def _generate_embeddings(self):\n",
    "        \"\"\"Generate embeddings for all descriptions.\"\"\"\n",
    "        descriptions = [item['description'] for item in self.data]\n",
    "        return self.model.encode(descriptions)\n",
    "\n",
    "    def _cosine_similarity_to_percentage(self, cosine_similarity):\n",
    "        \"\"\"Convert cosine similarity score to a percentage (0-100%).\"\"\"\n",
    "        return round(((1-cosine_similarity) * 100),2)\n",
    "\n",
    "\n",
    "    def search(self, queries, top_k=5):\n",
    "        \"\"\"Perform semantic search for a list of queries.\"\"\"\n",
    "        query_embeddings = self.model.encode(queries)\n",
    "        distances = cdist(query_embeddings, self.embeddings, metric='cosine')\n",
    "        results = []\n",
    "\n",
    "        for i, query in enumerate(queries):\n",
    "            ranked_indices = np.argsort(distances[i])[:top_k]\n",
    "            matches = [\n",
    "                {\n",
    "                    \"material_number\": self.data[idx]['material_number'],\n",
    "                    \"description\": self.data[idx]['description'],\n",
    "                    \"score\": 1 - distances[i, idx],  # Cosine similarity (1 - distance)\n",
    "                    \"score\": self._cosine_similarity_to_percentage(distances[i, idx])\n",
    "                }\n",
    "                for idx in ranked_indices\n",
    "            ]\n",
    "            results.append({\"query\": query, \"matches\": matches})\n",
    "        return results"
   ]
  },
  {
   "cell_type": "code",
   "execution_count": 3,
   "id": "22c01416-58b6-4250-8002-cc1c2e022360",
   "metadata": {},
   "outputs": [
    {
     "name": "stdout",
     "output_type": "stream",
     "text": [
      "[{\"query\": \"hammer\", \"matches\": [{\"material_number\": \"60000000-0299\", \"description\": \"Tools - hammer\", \"score\": 83.02}, {\"material_number\": \"60000000-0976\", \"description\": \"Tools - hammer\", \"score\": 83.02}, {\"material_number\": \"60000000-0836\", \"description\": \"Tools - hammer\", \"score\": 83.02}, {\"material_number\": \"60000000-0851\", \"description\": \"Tools - hammer\", \"score\": 83.02}, {\"material_number\": \"60000000-0008\", \"description\": \"Tools - hammer\", \"score\": 83.02}]}, {\"query\": \"engine oil\", \"matches\": [{\"material_number\": \"80000000-0908\", \"description\": \"Automotive Parts - engine\", \"score\": 48.13}, {\"material_number\": \"80000000-0779\", \"description\": \"Automotive Parts - engine\", \"score\": 48.13}, {\"material_number\": \"80000000-0861\", \"description\": \"Automotive Parts - engine\", \"score\": 48.13}, {\"material_number\": \"80000000-0704\", \"description\": \"Automotive Parts - engine\", \"score\": 48.13}, {\"material_number\": \"80000000-0905\", \"description\": \"Automotive Parts - engine\", \"score\": 48.13}]}]\n"
     ]
    }
   ],
   "source": [
    "import json\n",
    "# Example Usage\n",
    "if __name__ == \"__main__\":\n",
    "    # Initialize search engine\n",
    "    search_engine = SemanticSearch(data_file='materials.json')\n",
    "\n",
    "    # Example search queries\n",
    "    queries = [\"hammer\", \"engine oil\"]\n",
    "    results = search_engine.search(queries)\n",
    "\n",
    "    # Print results\n",
    "    #for result in results:\n",
    "     #   print(f\"Query: {result['query']}\")\n",
    "     #   for match in result['matches']:\n",
    "      #      print(f\"  - {match}\")\n",
    "\n",
    "\n",
    "import json\n",
    "\n",
    "# Convert Python object to JSON string\n",
    "json_string = json.dumps(results)\n",
    "\n",
    "print(json_string)"
   ]
  },
  {
   "cell_type": "code",
   "execution_count": 12,
   "id": "3f9dcd31-5335-4994-8d3d-f5e11c17a5b9",
   "metadata": {},
   "outputs": [
    {
     "name": "stdout",
     "output_type": "stream",
     "text": [
      "- Material Number: 60000000-0299, Description: Tools - hammer, Score: 83.02\n",
      "- Material Number: 60000000-0976, Description: Tools - hammer, Score: 83.02\n",
      "- Material Number: 60000000-0836, Description: Tools - hammer, Score: 83.02\n",
      "- Material Number: 60000000-0851, Description: Tools - hammer, Score: 83.02\n",
      "- Material Number: 60000000-0008, Description: Tools - hammer, Score: 83.02\n"
     ]
    }
   ],
   "source": [
    "first_query = results[0]\n",
    "matches_for_hammer = first_query['matches']\n",
    "for match in matches_for_hammer:\n",
    "    print(f\"- Material Number: {match['material_number']}, Description: {match['description']}, Score: {match['score']}\")\n"
   ]
  },
  {
   "cell_type": "code",
   "execution_count": null,
   "id": "87587e07-6bb2-4d82-b888-0d0960d2ee72",
   "metadata": {},
   "outputs": [],
   "source": []
  }
 ],
 "metadata": {
  "kernelspec": {
   "display_name": "Python 3 (ipykernel)",
   "language": "python",
   "name": "python3"
  },
  "language_info": {
   "codemirror_mode": {
    "name": "ipython",
    "version": 3
   },
   "file_extension": ".py",
   "mimetype": "text/x-python",
   "name": "python",
   "nbconvert_exporter": "python",
   "pygments_lexer": "ipython3",
   "version": "3.12.3"
  }
 },
 "nbformat": 4,
 "nbformat_minor": 5
}
